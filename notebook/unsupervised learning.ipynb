{
 "cells": [
  {
   "cell_type": "markdown",
   "metadata": {},
   "source": [
    "# Unsupervised learning"
   ]
  },
  {
   "cell_type": "code",
   "execution_count": 4,
   "metadata": {},
   "outputs": [],
   "source": [
    "using CSV\n",
    "using DataFrames"
   ]
  },
  {
   "cell_type": "markdown",
   "metadata": {},
   "source": [
    "# Load data"
   ]
  },
  {
   "cell_type": "code",
   "execution_count": 10,
   "metadata": {},
   "outputs": [
    {
     "data": {
      "text/html": [
       "<table class=\"data-frame\"><thead><tr><th></th><th>variable</th><th>eltype</th></tr><tr><th></th><th>Symbol</th><th>Type</th></tr></thead><tbody><p>26 rows × 2 columns</p><tr><th>1</th><td>Location Id</td><td>String</td></tr><tr><th>2</th><td>Business Account Number</td><td>Int64</td></tr><tr><th>3</th><td>Ownership Name</td><td>String</td></tr><tr><th>4</th><td>DBA Name</td><td>String</td></tr><tr><th>5</th><td>Street Address</td><td>Union{Missing, String}</td></tr><tr><th>6</th><td>City</td><td>Union{Missing, String}</td></tr><tr><th>7</th><td>State</td><td>Union{Missing, String}</td></tr><tr><th>8</th><td>Source Zipcode</td><td>Union{Missing, Int64}</td></tr><tr><th>9</th><td>Business Start Date</td><td>Date</td></tr><tr><th>10</th><td>Business End Date</td><td>Union{Missing, Date}</td></tr><tr><th>11</th><td>Location Start Date</td><td>Date</td></tr><tr><th>12</th><td>Location End Date</td><td>Union{Missing, Date}</td></tr><tr><th>13</th><td>Mail Address</td><td>Union{Missing, String}</td></tr><tr><th>14</th><td>Mail City</td><td>Union{Missing, String}</td></tr><tr><th>15</th><td>Mail Zipcode</td><td>Union{Missing, String}</td></tr><tr><th>16</th><td>Mail State</td><td>Union{Missing, String}</td></tr><tr><th>17</th><td>NAICS Code</td><td>Union{Missing, String}</td></tr><tr><th>18</th><td>NAICS Code Description</td><td>Union{Missing, String}</td></tr><tr><th>19</th><td>Parking Tax</td><td>Bool</td></tr><tr><th>20</th><td>Transient Occupancy Tax</td><td>Bool</td></tr><tr><th>21</th><td>LIC Code</td><td>Union{Missing, String}</td></tr><tr><th>22</th><td>LIC Code Description</td><td>Union{Missing, String}</td></tr><tr><th>23</th><td>Supervisor District</td><td>Union{Missing, Int64}</td></tr><tr><th>24</th><td>Neighborhoods - Analysis Boundaries</td><td>Union{Missing, String}</td></tr><tr><th>25</th><td>Business Corridor</td><td>Union{Missing, String}</td></tr><tr><th>26</th><td>Business Location</td><td>Union{Missing, String}</td></tr></tbody></table>"
      ],
      "text/latex": [
       "\\begin{tabular}{r|cc}\n",
       "\t& variable & eltype\\\\\n",
       "\t\\hline\n",
       "\t& Symbol & Type\\\\\n",
       "\t\\hline\n",
       "\t1 & Location Id & String \\\\\n",
       "\t2 & Business Account Number & Int64 \\\\\n",
       "\t3 & Ownership Name & String \\\\\n",
       "\t4 & DBA Name & String \\\\\n",
       "\t5 & Street Address & Union\\{Missing, String\\} \\\\\n",
       "\t6 & City & Union\\{Missing, String\\} \\\\\n",
       "\t7 & State & Union\\{Missing, String\\} \\\\\n",
       "\t8 & Source Zipcode & Union\\{Missing, Int64\\} \\\\\n",
       "\t9 & Business Start Date & Date \\\\\n",
       "\t10 & Business End Date & Union\\{Missing, Date\\} \\\\\n",
       "\t11 & Location Start Date & Date \\\\\n",
       "\t12 & Location End Date & Union\\{Missing, Date\\} \\\\\n",
       "\t13 & Mail Address & Union\\{Missing, String\\} \\\\\n",
       "\t14 & Mail City & Union\\{Missing, String\\} \\\\\n",
       "\t15 & Mail Zipcode & Union\\{Missing, String\\} \\\\\n",
       "\t16 & Mail State & Union\\{Missing, String\\} \\\\\n",
       "\t17 & NAICS Code & Union\\{Missing, String\\} \\\\\n",
       "\t18 & NAICS Code Description & Union\\{Missing, String\\} \\\\\n",
       "\t19 & Parking Tax & Bool \\\\\n",
       "\t20 & Transient Occupancy Tax & Bool \\\\\n",
       "\t21 & LIC Code & Union\\{Missing, String\\} \\\\\n",
       "\t22 & LIC Code Description & Union\\{Missing, String\\} \\\\\n",
       "\t23 & Supervisor District & Union\\{Missing, Int64\\} \\\\\n",
       "\t24 & Neighborhoods - Analysis Boundaries & Union\\{Missing, String\\} \\\\\n",
       "\t25 & Business Corridor & Union\\{Missing, String\\} \\\\\n",
       "\t26 & Business Location & Union\\{Missing, String\\} \\\\\n",
       "\\end{tabular}\n"
      ],
      "text/plain": [
       "26×2 DataFrame\n",
       "│ Row │ variable                            │ eltype                 │\n",
       "│     │ \u001b[90mSymbol\u001b[39m                              │ \u001b[90mType\u001b[39m                   │\n",
       "├─────┼─────────────────────────────────────┼────────────────────────┤\n",
       "│ 1   │ Location Id                         │ String                 │\n",
       "│ 2   │ Business Account Number             │ Int64                  │\n",
       "│ 3   │ Ownership Name                      │ String                 │\n",
       "│ 4   │ DBA Name                            │ String                 │\n",
       "│ 5   │ Street Address                      │ Union{Missing, String} │\n",
       "│ 6   │ City                                │ Union{Missing, String} │\n",
       "│ 7   │ State                               │ Union{Missing, String} │\n",
       "│ 8   │ Source Zipcode                      │ Union{Missing, Int64}  │\n",
       "│ 9   │ Business Start Date                 │ Date                   │\n",
       "│ 10  │ Business End Date                   │ Union{Missing, Date}   │\n",
       "⋮\n",
       "│ 16  │ Mail State                          │ Union{Missing, String} │\n",
       "│ 17  │ NAICS Code                          │ Union{Missing, String} │\n",
       "│ 18  │ NAICS Code Description              │ Union{Missing, String} │\n",
       "│ 19  │ Parking Tax                         │ Bool                   │\n",
       "│ 20  │ Transient Occupancy Tax             │ Bool                   │\n",
       "│ 21  │ LIC Code                            │ Union{Missing, String} │\n",
       "│ 22  │ LIC Code Description                │ Union{Missing, String} │\n",
       "│ 23  │ Supervisor District                 │ Union{Missing, Int64}  │\n",
       "│ 24  │ Neighborhoods - Analysis Boundaries │ Union{Missing, String} │\n",
       "│ 25  │ Business Corridor                   │ Union{Missing, String} │\n",
       "│ 26  │ Business Location                   │ Union{Missing, String} │"
      ]
     },
     "execution_count": 10,
     "metadata": {},
     "output_type": "execute_result"
    }
   ],
   "source": [
    "df = CSV.read(\"../data/Map_of_Registered_Business_Locations.csv\", dateformat=\"m/d/y\")\n",
    "describe(df, :eltype)"
   ]
  },
  {
   "cell_type": "code",
   "execution_count": null,
   "metadata": {},
   "outputs": [],
   "source": []
  }
 ],
 "metadata": {
  "kernelspec": {
   "display_name": "Julia 1.2.0",
   "language": "julia",
   "name": "julia-1.2"
  },
  "language_info": {
   "file_extension": ".jl",
   "mimetype": "application/julia",
   "name": "julia",
   "version": "1.2.0"
  }
 },
 "nbformat": 4,
 "nbformat_minor": 2
}
